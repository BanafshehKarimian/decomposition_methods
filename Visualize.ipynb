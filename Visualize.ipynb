{
 "cells": [
  {
   "cell_type": "code",
   "execution_count": 7,
   "metadata": {},
   "outputs": [],
   "source": [
    "import math\n",
    "import numpy as np\n",
    "import numpy as np\n",
    "import matplotlib.pyplot as plt\n",
    "import matplotlib\n",
    "matplotlib.use('TkAgg')\n",
    "from mpl_toolkits.mplot3d import Axes3D\n",
    "from matplotlib.backends.backend_tkagg import FigureCanvasTkAgg, NavigationToolbar2Tk\n",
    "from matplotlib.figure import Figure\n",
    "import matplotlib.animation as animation\n",
    "import tkinter.messagebox\n",
    "from tkinter import *\n",
    "import tkinter as tk"
   ]
  },
  {
   "cell_type": "code",
   "execution_count": 8,
   "metadata": {},
   "outputs": [],
   "source": [
    "import numpy as np\n",
    "import matplotlib.pyplot as plt"
   ]
  },
  {
   "cell_type": "code",
   "execution_count": 12,
   "metadata": {},
   "outputs": [],
   "source": [
    "q = np.load('r.npy',allow_pickle='TRUE')"
   ]
  },
  {
   "cell_type": "code",
   "execution_count": 13,
   "metadata": {},
   "outputs": [],
   "source": [
    "def convertTupleToArray(q):\n",
    "        qy = []\n",
    "        qx = []\n",
    "        for qn in q:\n",
    "            qnx = []\n",
    "            qny = []\n",
    "            for i in range(len(qn)):\n",
    "                if i%2 == 0:\n",
    "                    qnx.append(qn[i])\n",
    "                else:\n",
    "                    qny.append(qn[i])\n",
    "            qx.append(qnx)\n",
    "            qy.append(qny)\n",
    "        return qx, qy\n",
    "'''def convertTupleToArray(q):\n",
    "        qn = list(q)\n",
    "        qy = []\n",
    "        qx = []\n",
    "        for i in range(len(qn)):\n",
    "            if i%2 == 0:\n",
    "                qx.append(qn[i])\n",
    "            else:\n",
    "                qy.append(qn[i])\n",
    "        qx = np.reshape(np.array(qx), (4, -1))\n",
    "        qy = np.reshape(np.array(qy), (4, -1))\n",
    "        return qx, qy'''\n",
    "\n",
    "qx,qy = convertTupleToArray(q)"
   ]
  },
  {
   "cell_type": "code",
   "execution_count": 14,
   "metadata": {},
   "outputs": [],
   "source": [
    "def button_add():\n",
    "    fig = Figure()\n",
    "    canvas = FigureCanvasTkAgg(fig, root)\n",
    "    canvas.draw()\n",
    "    label = 0\n",
    "    pointx = qx\n",
    "    pointy = qy\n",
    "    label = 0\n",
    "    colors = np.random.rand(len(pointx))\n",
    "    marker = [\"o\", \"v\", \"X\", \"^\", \"<\", \">\", \"h\", \"s\", \"P\", \"p\", \"*\", \"+\", \"d\"]\n",
    "    colors =  ['green','red','cyan','magenta','yellow','blue']\n",
    "    fig = plt.figure(figsize=(12, 12))\n",
    "    ax = fig.add_subplot(projection='3d')\n",
    "    for j in range(len(pointx[0])):\n",
    "        for i in range(len(pointx)):\n",
    "            ax.scatter(pointx[i][j],pointy[i][j],j, c = colors[i])\n",
    "    ax.set_zlabel(\"time\")\n",
    "    plt.show()\n",
    "    #Axes3D.plot()\n",
    "\n",
    "    toolbar = NavigationToolbar2Tk(canvas, root)\n",
    "    toolbar.update()\n",
    "\n",
    "    canvas.get_tk_widget().pack(side=tkinter.TOP, fill=tkinter.BOTH, expand=1)  "
   ]
  },
  {
   "cell_type": "code",
   "execution_count": 15,
   "metadata": {},
   "outputs": [],
   "source": [
    "root = Tk()\n",
    "root.title(\"3D Lsyst\")\n",
    "root.geometry('800x600')\n",
    "axiom=tk.StringVar()\n",
    "rule=tk.StringVar()\n",
    "it=tk.StringVar()\n",
    "sub_btn=tk.Button(root,text = 'Draw', command = button_add)\n",
    "sub_btn.pack()#grid(row=3,column=1)\n",
    "\n",
    "root.mainloop()"
   ]
  }
 ],
 "metadata": {
  "kernelspec": {
   "display_name": "Python 3",
   "language": "python",
   "name": "python3"
  },
  "language_info": {
   "codemirror_mode": {
    "name": "ipython",
    "version": 3
   },
   "file_extension": ".py",
   "mimetype": "text/x-python",
   "name": "python",
   "nbconvert_exporter": "python",
   "pygments_lexer": "ipython3",
   "version": "3.7.1"
  }
 },
 "nbformat": 4,
 "nbformat_minor": 2
}
